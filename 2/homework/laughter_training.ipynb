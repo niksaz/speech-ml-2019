{
 "cells": [
  {
   "cell_type": "code",
   "execution_count": 1,
   "metadata": {},
   "outputs": [],
   "source": [
    "%load_ext autoreload\n",
    "%autoreload 2"
   ]
  },
  {
   "cell_type": "code",
   "execution_count": 2,
   "metadata": {},
   "outputs": [],
   "source": [
    "import numpy as np\n",
    "import torch\n",
    "import matplotlib.pyplot as plt\n",
    "\n",
    "from sklearn.metrics import accuracy_score, roc_auc_score\n",
    "from sklearn.model_selection import train_test_split\n",
    "from laughter_classification.sspnet_data_sampler import SSPNetDataSampler\n",
    "from laughter_prediction.predictors import RnnPredictor"
   ]
  },
  {
   "cell_type": "code",
   "execution_count": 3,
   "metadata": {},
   "outputs": [],
   "source": [
    "FRAME_SEC = 0.5\n",
    "CHUNKS = int(11 / FRAME_SEC)\n",
    "N_MFCC = 20\n",
    "N_MELS = 128\n",
    "FEATURES = N_MFCC + N_MELS\n",
    "\n",
    "def build_dataset_from_data(data):\n",
    "    index = data['SNAME'].unique()\n",
    "    train_index, test_index = train_test_split(index)\n",
    "\n",
    "    train_data = np.array(data[data['SNAME'].isin(train_index)].drop(columns='SNAME'))\n",
    "    test_data = np.array(data[data['SNAME'].isin(test_index)].drop(columns='SNAME'))\n",
    "\n",
    "    X_train = train_data[:, :-1].reshape(len(train_index), CHUNKS, FEATURES)\n",
    "    y_train = train_data[:, -1].reshape(len(train_index), CHUNKS)\n",
    "    X_test = test_data[:, :-1].reshape(len(test_index), CHUNKS, FEATURES)\n",
    "    y_test = test_data[:, -1].reshape(len(test_index), CHUNKS)\n",
    "    \n",
    "    return X_train, y_train, X_test, y_test"
   ]
  },
  {
   "cell_type": "code",
   "execution_count": 4,
   "metadata": {},
   "outputs": [
    {
     "name": "stdout",
     "output_type": "stream",
     "text": [
      "Sampled data already exists at samples.csv\n",
      "Skipping generation.\n"
     ]
    },
    {
     "data": {
      "text/html": [
       "<div>\n",
       "<style scoped>\n",
       "    .dataframe tbody tr th:only-of-type {\n",
       "        vertical-align: middle;\n",
       "    }\n",
       "\n",
       "    .dataframe tbody tr th {\n",
       "        vertical-align: top;\n",
       "    }\n",
       "\n",
       "    .dataframe thead th {\n",
       "        text-align: right;\n",
       "    }\n",
       "</style>\n",
       "<table border=\"1\" class=\"dataframe\">\n",
       "  <thead>\n",
       "    <tr style=\"text-align: right;\">\n",
       "      <th></th>\n",
       "      <th>V0</th>\n",
       "      <th>V1</th>\n",
       "      <th>V2</th>\n",
       "      <th>V3</th>\n",
       "      <th>V4</th>\n",
       "      <th>V5</th>\n",
       "      <th>V6</th>\n",
       "      <th>V7</th>\n",
       "      <th>V8</th>\n",
       "      <th>V9</th>\n",
       "      <th>...</th>\n",
       "      <th>V140</th>\n",
       "      <th>V141</th>\n",
       "      <th>V142</th>\n",
       "      <th>V143</th>\n",
       "      <th>V144</th>\n",
       "      <th>V145</th>\n",
       "      <th>V146</th>\n",
       "      <th>V147</th>\n",
       "      <th>IS_LAUGHTER</th>\n",
       "      <th>SNAME</th>\n",
       "    </tr>\n",
       "  </thead>\n",
       "  <tbody>\n",
       "    <tr>\n",
       "      <th>0</th>\n",
       "      <td>903.469993</td>\n",
       "      <td>22.110552</td>\n",
       "      <td>13.151943</td>\n",
       "      <td>46.213083</td>\n",
       "      <td>-17.533179</td>\n",
       "      <td>23.288871</td>\n",
       "      <td>-17.945700</td>\n",
       "      <td>4.478985</td>\n",
       "      <td>-16.021022</td>\n",
       "      <td>-8.827005</td>\n",
       "      <td>...</td>\n",
       "      <td>8.985123e+07</td>\n",
       "      <td>4.989764e+07</td>\n",
       "      <td>4.625960e+07</td>\n",
       "      <td>3.625273e+07</td>\n",
       "      <td>5.107908e+07</td>\n",
       "      <td>7.357580e+07</td>\n",
       "      <td>6.407850e+07</td>\n",
       "      <td>7.800024e+06</td>\n",
       "      <td>0</td>\n",
       "      <td>S1584</td>\n",
       "    </tr>\n",
       "    <tr>\n",
       "      <th>1</th>\n",
       "      <td>1076.620915</td>\n",
       "      <td>39.017817</td>\n",
       "      <td>-11.557705</td>\n",
       "      <td>18.714980</td>\n",
       "      <td>-26.330274</td>\n",
       "      <td>4.989787</td>\n",
       "      <td>-18.932455</td>\n",
       "      <td>-9.438138</td>\n",
       "      <td>-15.903813</td>\n",
       "      <td>3.718074</td>\n",
       "      <td>...</td>\n",
       "      <td>9.439361e+08</td>\n",
       "      <td>7.555011e+08</td>\n",
       "      <td>5.229335e+08</td>\n",
       "      <td>5.567003e+08</td>\n",
       "      <td>4.156222e+08</td>\n",
       "      <td>2.205994e+08</td>\n",
       "      <td>1.500357e+08</td>\n",
       "      <td>5.049134e+07</td>\n",
       "      <td>0</td>\n",
       "      <td>S1584</td>\n",
       "    </tr>\n",
       "    <tr>\n",
       "      <th>2</th>\n",
       "      <td>995.621771</td>\n",
       "      <td>-1.909144</td>\n",
       "      <td>2.695838</td>\n",
       "      <td>55.443860</td>\n",
       "      <td>-32.991052</td>\n",
       "      <td>-0.126695</td>\n",
       "      <td>-19.138405</td>\n",
       "      <td>3.964841</td>\n",
       "      <td>-24.811939</td>\n",
       "      <td>-17.698905</td>\n",
       "      <td>...</td>\n",
       "      <td>2.482918e+09</td>\n",
       "      <td>1.335233e+09</td>\n",
       "      <td>9.182979e+08</td>\n",
       "      <td>6.711759e+08</td>\n",
       "      <td>4.114660e+08</td>\n",
       "      <td>3.394379e+08</td>\n",
       "      <td>1.120452e+08</td>\n",
       "      <td>1.447846e+07</td>\n",
       "      <td>0</td>\n",
       "      <td>S1584</td>\n",
       "    </tr>\n",
       "    <tr>\n",
       "      <th>3</th>\n",
       "      <td>918.134076</td>\n",
       "      <td>59.672153</td>\n",
       "      <td>-6.183980</td>\n",
       "      <td>34.182409</td>\n",
       "      <td>-19.570943</td>\n",
       "      <td>3.922867</td>\n",
       "      <td>-26.072242</td>\n",
       "      <td>-5.724687</td>\n",
       "      <td>-9.738054</td>\n",
       "      <td>-6.946997</td>\n",
       "      <td>...</td>\n",
       "      <td>1.030339e+08</td>\n",
       "      <td>7.779213e+07</td>\n",
       "      <td>3.941465e+07</td>\n",
       "      <td>3.179126e+07</td>\n",
       "      <td>5.402894e+07</td>\n",
       "      <td>9.483624e+07</td>\n",
       "      <td>4.833910e+07</td>\n",
       "      <td>6.200207e+06</td>\n",
       "      <td>0</td>\n",
       "      <td>S1584</td>\n",
       "    </tr>\n",
       "    <tr>\n",
       "      <th>4</th>\n",
       "      <td>1030.135489</td>\n",
       "      <td>6.257672</td>\n",
       "      <td>1.848061</td>\n",
       "      <td>15.874738</td>\n",
       "      <td>-24.140455</td>\n",
       "      <td>-0.862834</td>\n",
       "      <td>-24.911275</td>\n",
       "      <td>-0.844526</td>\n",
       "      <td>-8.698000</td>\n",
       "      <td>-2.113416</td>\n",
       "      <td>...</td>\n",
       "      <td>2.005485e+09</td>\n",
       "      <td>1.743934e+09</td>\n",
       "      <td>1.992600e+09</td>\n",
       "      <td>7.783651e+08</td>\n",
       "      <td>6.701162e+08</td>\n",
       "      <td>6.316645e+08</td>\n",
       "      <td>7.908638e+08</td>\n",
       "      <td>1.029155e+08</td>\n",
       "      <td>0</td>\n",
       "      <td>S1584</td>\n",
       "    </tr>\n",
       "  </tbody>\n",
       "</table>\n",
       "<p>5 rows × 150 columns</p>\n",
       "</div>"
      ],
      "text/plain": [
       "            V0         V1         V2         V3         V4         V5  \\\n",
       "0   903.469993  22.110552  13.151943  46.213083 -17.533179  23.288871   \n",
       "1  1076.620915  39.017817 -11.557705  18.714980 -26.330274   4.989787   \n",
       "2   995.621771  -1.909144   2.695838  55.443860 -32.991052  -0.126695   \n",
       "3   918.134076  59.672153  -6.183980  34.182409 -19.570943   3.922867   \n",
       "4  1030.135489   6.257672   1.848061  15.874738 -24.140455  -0.862834   \n",
       "\n",
       "          V6        V7         V8         V9  ...          V140          V141  \\\n",
       "0 -17.945700  4.478985 -16.021022  -8.827005  ...  8.985123e+07  4.989764e+07   \n",
       "1 -18.932455 -9.438138 -15.903813   3.718074  ...  9.439361e+08  7.555011e+08   \n",
       "2 -19.138405  3.964841 -24.811939 -17.698905  ...  2.482918e+09  1.335233e+09   \n",
       "3 -26.072242 -5.724687  -9.738054  -6.946997  ...  1.030339e+08  7.779213e+07   \n",
       "4 -24.911275 -0.844526  -8.698000  -2.113416  ...  2.005485e+09  1.743934e+09   \n",
       "\n",
       "           V142          V143          V144          V145          V146  \\\n",
       "0  4.625960e+07  3.625273e+07  5.107908e+07  7.357580e+07  6.407850e+07   \n",
       "1  5.229335e+08  5.567003e+08  4.156222e+08  2.205994e+08  1.500357e+08   \n",
       "2  9.182979e+08  6.711759e+08  4.114660e+08  3.394379e+08  1.120452e+08   \n",
       "3  3.941465e+07  3.179126e+07  5.402894e+07  9.483624e+07  4.833910e+07   \n",
       "4  1.992600e+09  7.783651e+08  6.701162e+08  6.316645e+08  7.908638e+08   \n",
       "\n",
       "           V147  IS_LAUGHTER  SNAME  \n",
       "0  7.800024e+06            0  S1584  \n",
       "1  5.049134e+07            0  S1584  \n",
       "2  1.447846e+07            0  S1584  \n",
       "3  6.200207e+06            0  S1584  \n",
       "4  1.029155e+08            0  S1584  \n",
       "\n",
       "[5 rows x 150 columns]"
      ]
     },
     "execution_count": 4,
     "metadata": {},
     "output_type": "execute_result"
    }
   ],
   "source": [
    "sampler = SSPNetDataSampler('corpus', 'data')\n",
    "data = sampler.create_sampled_df(FRAME_SEC, save_path='samples.csv')\n",
    "data.head()"
   ]
  },
  {
   "cell_type": "code",
   "execution_count": 5,
   "metadata": {},
   "outputs": [],
   "source": [
    "np.random.seed(7)\n",
    "X_train, y_train, X_test, y_test = build_dataset_from_data(data)"
   ]
  },
  {
   "cell_type": "code",
   "execution_count": 6,
   "metadata": {},
   "outputs": [
    {
     "name": "stdout",
     "output_type": "stream",
     "text": [
      "GeForce GTX 1080 Ti\n"
     ]
    }
   ],
   "source": [
    "device = torch.cuda.current_device()\n",
    "print(torch.cuda.get_device_name(device))"
   ]
  },
  {
   "cell_type": "code",
   "execution_count": 7,
   "metadata": {},
   "outputs": [],
   "source": [
    "HIDDEN_DIM = 96\n",
    "\n",
    "def compute_stats(y, y_pred):\n",
    "    acc = accuracy_score(y, y_pred)\n",
    "    auc = roc_auc_score(y, y_pred)\n",
    "    return acc, auc"
   ]
  },
  {
   "cell_type": "code",
   "execution_count": 8,
   "metadata": {},
   "outputs": [
    {
     "name": "stderr",
     "output_type": "stream",
     "text": [
      "100%|██████████| 1000/1000 [00:47<00:00, 21.04it/s]\n"
     ]
    }
   ],
   "source": [
    "predictor = RnnPredictor(FEATURES, HIDDEN_DIM, device)\n",
    "\n",
    "np.random.seed(7)\n",
    "torch.backends.cudnn.deterministic = True\n",
    "torch.backends.cudnn.benchmark = False\n",
    "torch.manual_seed(7)\n",
    "\n",
    "train_losses, test_stats = predictor.train(X_train, y_train, X_test, y_test, fun_compute_stats=compute_stats)\n",
    "test_accuracies, test_aucs = zip(*test_stats)"
   ]
  },
  {
   "cell_type": "code",
   "execution_count": 9,
   "metadata": {},
   "outputs": [],
   "source": [
    "def smooth(scalars, weight=0.9):\n",
    "    last = scalars[0]\n",
    "    smoothed = list()\n",
    "    for point in scalars:\n",
    "        smoothed_val = last * weight + (1 - weight) * point\n",
    "        smoothed.append(smoothed_val)\n",
    "        last = smoothed_val\n",
    "    return smoothed"
   ]
  },
  {
   "cell_type": "code",
   "execution_count": 10,
   "metadata": {},
   "outputs": [
    {
     "data": {
      "image/png": "[encoded data removed]",
      "text/plain": [
       "<Figure size 432x288 with 1 Axes>"
      ]
     },
     "metadata": {
      "needs_background": "light"
     },
     "output_type": "display_data"
    },
    {
     "data": {
      "image/png": "[encoded data removed]",
      "text/plain": [
       "<Figure size 432x288 with 1 Axes>"
      ]
     },
     "metadata": {
      "needs_background": "light"
     },
     "output_type": "display_data"
    }
   ],
   "source": [
    "plt.plot(range(len(train_losses)), smooth(train_losses))\n",
    "plt.legend(['Train loss'])\n",
    "plt.show()\n",
    "\n",
    "plt.plot(range(len(test_accuracies)), smooth(test_accuracies))\n",
    "plt.plot(range(len(test_aucs)), smooth(test_aucs))\n",
    "plt.legend(['Test accuracies', 'Test AUC scores'])\n",
    "plt.show()"
   ]
  },
  {
   "cell_type": "code",
   "execution_count": 11,
   "metadata": {},
   "outputs": [],
   "source": [
    "def plot_test_sample(predictor, X, y):\n",
    "    y_pred = predictor.predict(X)\n",
    "    plt.plot(range(len(y)), y, \"o\")\n",
    "    plt.plot(range(len(y_pred)), y_pred, 'x')\n",
    "    plt.legend(['Truth', 'Predicted'])\n",
    "    plt.show()"
   ]
  },
  {
   "cell_type": "code",
   "execution_count": 12,
   "metadata": {},
   "outputs": [
    {
     "data": {
      "image/png": "[encoded data removed]",
      "text/plain": [
       "<Figure size 432x288 with 1 Axes>"
      ]
     },
     "metadata": {
      "needs_background": "light"
     },
     "output_type": "display_data"
    },
    {
     "data": {
      "image/png": "[encoded data removed]",
      "text/plain": [
       "<Figure size 432x288 with 1 Axes>"
      ]
     },
     "metadata": {
      "needs_background": "light"
     },
     "output_type": "display_data"
    },
    {
     "data": {
      "image/png": "[encoded data removed]",
      "text/plain": [
       "<Figure size 432x288 with 1 Axes>"
      ]
     },
     "metadata": {
      "needs_background": "light"
     },
     "output_type": "display_data"
    }
   ],
   "source": [
    "for index in range(3):\n",
    "    plot_test_sample(predictor, X_test[index], y_test[index])"
   ]
  },
  {
   "cell_type": "code",
   "execution_count": 13,
   "metadata": {},
   "outputs": [
    {
     "name": "stdout",
     "output_type": "stream",
     "text": [
      "Sampled data already exists at noised-samples.csv\n",
      "Skipping generation.\n"
     ]
    },
    {
     "data": {
      "text/html": [
       "<div>\n",
       "<style scoped>\n",
       "    .dataframe tbody tr th:only-of-type {\n",
       "        vertical-align: middle;\n",
       "    }\n",
       "\n",
       "    .dataframe tbody tr th {\n",
       "        vertical-align: top;\n",
       "    }\n",
       "\n",
       "    .dataframe thead th {\n",
       "        text-align: right;\n",
       "    }\n",
       "</style>\n",
       "<table border=\"1\" class=\"dataframe\">\n",
       "  <thead>\n",
       "    <tr style=\"text-align: right;\">\n",
       "      <th></th>\n",
       "      <th>V0</th>\n",
       "      <th>V1</th>\n",
       "      <th>V2</th>\n",
       "      <th>V3</th>\n",
       "      <th>V4</th>\n",
       "      <th>V5</th>\n",
       "      <th>V6</th>\n",
       "      <th>V7</th>\n",
       "      <th>V8</th>\n",
       "      <th>V9</th>\n",
       "      <th>...</th>\n",
       "      <th>V140</th>\n",
       "      <th>V141</th>\n",
       "      <th>V142</th>\n",
       "      <th>V143</th>\n",
       "      <th>V144</th>\n",
       "      <th>V145</th>\n",
       "      <th>V146</th>\n",
       "      <th>V147</th>\n",
       "      <th>IS_LAUGHTER</th>\n",
       "      <th>SNAME</th>\n",
       "    </tr>\n",
       "  </thead>\n",
       "  <tbody>\n",
       "    <tr>\n",
       "      <th>0</th>\n",
       "      <td>-162.241963</td>\n",
       "      <td>99.305221</td>\n",
       "      <td>-31.083483</td>\n",
       "      <td>9.736183</td>\n",
       "      <td>-5.025057</td>\n",
       "      <td>2.840034</td>\n",
       "      <td>-19.368994</td>\n",
       "      <td>5.831292</td>\n",
       "      <td>-10.526847</td>\n",
       "      <td>8.765844</td>\n",
       "      <td>...</td>\n",
       "      <td>0.000411</td>\n",
       "      <td>0.000324</td>\n",
       "      <td>0.000345</td>\n",
       "      <td>0.000400</td>\n",
       "      <td>0.000373</td>\n",
       "      <td>0.000467</td>\n",
       "      <td>0.000232</td>\n",
       "      <td>0.000014</td>\n",
       "      <td>0</td>\n",
       "      <td>S1450</td>\n",
       "    </tr>\n",
       "    <tr>\n",
       "      <th>1</th>\n",
       "      <td>25.870699</td>\n",
       "      <td>76.026166</td>\n",
       "      <td>-24.713012</td>\n",
       "      <td>21.309417</td>\n",
       "      <td>-6.417149</td>\n",
       "      <td>-3.529695</td>\n",
       "      <td>-20.876398</td>\n",
       "      <td>-4.841533</td>\n",
       "      <td>-7.722054</td>\n",
       "      <td>12.752993</td>\n",
       "      <td>...</td>\n",
       "      <td>0.166901</td>\n",
       "      <td>0.093145</td>\n",
       "      <td>0.093664</td>\n",
       "      <td>0.080839</td>\n",
       "      <td>0.090909</td>\n",
       "      <td>0.111359</td>\n",
       "      <td>0.047348</td>\n",
       "      <td>0.012938</td>\n",
       "      <td>0</td>\n",
       "      <td>S1450</td>\n",
       "    </tr>\n",
       "    <tr>\n",
       "      <th>2</th>\n",
       "      <td>2.218733</td>\n",
       "      <td>83.199375</td>\n",
       "      <td>-20.165513</td>\n",
       "      <td>33.544626</td>\n",
       "      <td>-12.667571</td>\n",
       "      <td>-6.678504</td>\n",
       "      <td>-16.746280</td>\n",
       "      <td>4.253116</td>\n",
       "      <td>-18.140451</td>\n",
       "      <td>-0.790518</td>\n",
       "      <td>...</td>\n",
       "      <td>0.069084</td>\n",
       "      <td>0.092884</td>\n",
       "      <td>0.081155</td>\n",
       "      <td>0.083733</td>\n",
       "      <td>0.052746</td>\n",
       "      <td>0.050653</td>\n",
       "      <td>0.029799</td>\n",
       "      <td>0.005830</td>\n",
       "      <td>0</td>\n",
       "      <td>S1450</td>\n",
       "    </tr>\n",
       "    <tr>\n",
       "      <th>3</th>\n",
       "      <td>-159.205436</td>\n",
       "      <td>102.373750</td>\n",
       "      <td>-11.264694</td>\n",
       "      <td>6.162660</td>\n",
       "      <td>-8.452955</td>\n",
       "      <td>6.778036</td>\n",
       "      <td>-26.255784</td>\n",
       "      <td>3.853356</td>\n",
       "      <td>-10.376898</td>\n",
       "      <td>12.551957</td>\n",
       "      <td>...</td>\n",
       "      <td>0.000679</td>\n",
       "      <td>0.000681</td>\n",
       "      <td>0.000577</td>\n",
       "      <td>0.000658</td>\n",
       "      <td>0.000637</td>\n",
       "      <td>0.000567</td>\n",
       "      <td>0.000275</td>\n",
       "      <td>0.000021</td>\n",
       "      <td>0</td>\n",
       "      <td>S1450</td>\n",
       "    </tr>\n",
       "    <tr>\n",
       "      <th>4</th>\n",
       "      <td>-189.015089</td>\n",
       "      <td>111.716419</td>\n",
       "      <td>-13.015388</td>\n",
       "      <td>18.557473</td>\n",
       "      <td>-4.599727</td>\n",
       "      <td>-6.264247</td>\n",
       "      <td>-20.157787</td>\n",
       "      <td>-5.440594</td>\n",
       "      <td>-11.036971</td>\n",
       "      <td>8.762326</td>\n",
       "      <td>...</td>\n",
       "      <td>0.000333</td>\n",
       "      <td>0.000344</td>\n",
       "      <td>0.000350</td>\n",
       "      <td>0.000387</td>\n",
       "      <td>0.000325</td>\n",
       "      <td>0.000394</td>\n",
       "      <td>0.000193</td>\n",
       "      <td>0.000015</td>\n",
       "      <td>0</td>\n",
       "      <td>S1450</td>\n",
       "    </tr>\n",
       "  </tbody>\n",
       "</table>\n",
       "<p>5 rows × 150 columns</p>\n",
       "</div>"
      ],
      "text/plain": [
       "           V0          V1         V2         V3         V4        V5  \\\n",
       "0 -162.241963   99.305221 -31.083483   9.736183  -5.025057  2.840034   \n",
       "1   25.870699   76.026166 -24.713012  21.309417  -6.417149 -3.529695   \n",
       "2    2.218733   83.199375 -20.165513  33.544626 -12.667571 -6.678504   \n",
       "3 -159.205436  102.373750 -11.264694   6.162660  -8.452955  6.778036   \n",
       "4 -189.015089  111.716419 -13.015388  18.557473  -4.599727 -6.264247   \n",
       "\n",
       "          V6        V7         V8         V9  ...      V140      V141  \\\n",
       "0 -19.368994  5.831292 -10.526847   8.765844  ...  0.000411  0.000324   \n",
       "1 -20.876398 -4.841533  -7.722054  12.752993  ...  0.166901  0.093145   \n",
       "2 -16.746280  4.253116 -18.140451  -0.790518  ...  0.069084  0.092884   \n",
       "3 -26.255784  3.853356 -10.376898  12.551957  ...  0.000679  0.000681   \n",
       "4 -20.157787 -5.440594 -11.036971   8.762326  ...  0.000333  0.000344   \n",
       "\n",
       "       V142      V143      V144      V145      V146      V147  IS_LAUGHTER  \\\n",
       "0  0.000345  0.000400  0.000373  0.000467  0.000232  0.000014            0   \n",
       "1  0.093664  0.080839  0.090909  0.111359  0.047348  0.012938            0   \n",
       "2  0.081155  0.083733  0.052746  0.050653  0.029799  0.005830            0   \n",
       "3  0.000577  0.000658  0.000637  0.000567  0.000275  0.000021            0   \n",
       "4  0.000350  0.000387  0.000325  0.000394  0.000193  0.000015            0   \n",
       "\n",
       "   SNAME  \n",
       "0  S1450  \n",
       "1  S1450  \n",
       "2  S1450  \n",
       "3  S1450  \n",
       "4  S1450  \n",
       "\n",
       "[5 rows x 150 columns]"
      ]
     },
     "execution_count": 13,
     "metadata": {},
     "output_type": "execute_result"
    }
   ],
   "source": [
    "sampler = SSPNetDataSampler('corpus', 'noised')\n",
    "noised_data = sampler.create_sampled_df(FRAME_SEC, save_path='noised-samples.csv')\n",
    "noised_data.head()"
   ]
  },
  {
   "cell_type": "code",
   "execution_count": 14,
   "metadata": {},
   "outputs": [],
   "source": [
    "np.random.seed(7)\n",
    "X_train_noised, y_train_noised, X_test_noised, y_test_noised = build_dataset_from_data(noised_data)"
   ]
  },
  {
   "cell_type": "code",
   "execution_count": 15,
   "metadata": {},
   "outputs": [
    {
     "name": "stderr",
     "output_type": "stream",
     "text": [
      "100%|██████████| 1000/1000 [00:47<00:00, 21.06it/s]\n"
     ]
    }
   ],
   "source": [
    "predictor_from_noised = RnnPredictor(FEATURES, HIDDEN_DIM, device)\n",
    "\n",
    "np.random.seed(7)\n",
    "torch.backends.cudnn.deterministic = True\n",
    "torch.backends.cudnn.benchmark = False\n",
    "torch.manual_seed(7)\n",
    "\n",
    "train_noised_losses, test_noised_stats = predictor.train(\n",
    "    X_train_noised, y_train_noised, X_test_noised, y_test_noised, fun_compute_stats=compute_stats)\n",
    "test_noised_accuracies, test_noised_aucs = zip(*test_noised_stats)"
   ]
  },
  {
   "cell_type": "code",
   "execution_count": 16,
   "metadata": {},
   "outputs": [
    {
     "data": {
      "image/png": "[encoded data removed]",
      "text/plain": [
       "<Figure size 432x288 with 1 Axes>"
      ]
     },
     "metadata": {
      "needs_background": "light"
     },
     "output_type": "display_data"
    },
    {
     "data": {
      "image/png": "[encoded data removed]",
      "text/plain": [
       "<Figure size 432x288 with 1 Axes>"
      ]
     },
     "metadata": {
      "needs_background": "light"
     },
     "output_type": "display_data"
    }
   ],
   "source": [
    "plt.plot(range(len(train_noised_losses)), smooth(train_noised_losses))\n",
    "plt.legend(['Train loss'])\n",
    "plt.show()\n",
    "\n",
    "plt.plot(range(len(test_noised_accuracies)), smooth(test_noised_accuracies))\n",
    "plt.plot(range(len(test_noised_aucs)), smooth(test_noised_aucs))\n",
    "plt.legend(['Test accuracies', 'Test AUC scores'])\n",
    "plt.show()"
   ]
  },
  {
   "cell_type": "markdown",
   "metadata": {},
   "source": [
    "# Joint results"
   ]
  },
  {
   "cell_type": "code",
   "execution_count": 17,
   "metadata": {},
   "outputs": [
    {
     "data": {
      "image/png": "[encoded data removed]",
      "text/plain": [
       "<Figure size 432x288 with 1 Axes>"
      ]
     },
     "metadata": {
      "needs_background": "light"
     },
     "output_type": "display_data"
    }
   ],
   "source": [
    "plt.plot(range(len(test_accuracies)), smooth(test_accuracies))\n",
    "plt.plot(range(len(test_aucs)), smooth(test_aucs))\n",
    "plt.plot(range(len(test_noised_accuracies)), smooth(test_noised_accuracies))\n",
    "plt.plot(range(len(test_noised_aucs)), smooth(test_noised_aucs))\n",
    "plt.legend(['Test ACC', 'Test AUC', 'Test ACC (noised)', 'Test AUC (noised)'])\n",
    "plt.show()"
   ]
  },
  {
   "cell_type": "code",
   "execution_count": 18,
   "metadata": {},
   "outputs": [],
   "source": [
    "torch.save(predictor, 'predictor.pkl')"
   ]
  },
  {
   "cell_type": "code",
   "execution_count": null,
   "metadata": {},
   "outputs": [],
   "source": []
  }
 ],
 "metadata": {
  "kernelspec": {
   "display_name": "Python (sound)",
   "language": "python",
   "name": "sound"
  },
  "language_info": {
   "codemirror_mode": {
    "name": "ipython",
    "version": 3
   },
   "file_extension": ".py",
   "mimetype": "text/x-python",
   "name": "python",
   "nbconvert_exporter": "python",
   "pygments_lexer": "ipython3",
   "version": "3.7.2"
  }
 },
 "nbformat": 4,
 "nbformat_minor": 2
}
