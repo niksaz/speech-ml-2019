{
 "cells": [
  {
   "cell_type": "code",
   "execution_count": 1,
   "metadata": {},
   "outputs": [],
   "source": [
    "# Author: Mikita Sazanovich"
   ]
  },
  {
   "cell_type": "code",
   "execution_count": 2,
   "metadata": {},
   "outputs": [],
   "source": [
    "import os\n",
    "import random\n",
    "import subprocess\n",
    "import matplotlib.pyplot as plt\n",
    "import numpy as np\n",
    "from numpy import mean\n",
    "from sklearn.model_selection import train_test_split\n",
    "from sklearn.preprocessing import scale\n",
    "\n",
    "from kaldi.feat.mfcc import Mfcc, MfccOptions\n",
    "from kaldi.matrix import SubVector, SubMatrix\n",
    "from kaldi.util.options import ParseOptions\n",
    "from kaldi.util.table import SequentialWaveReader, SequentialMatrixReader, MatrixWriter\n",
    "\n",
    "import torch\n",
    "import torch.nn as nn\n",
    "import torch.nn.functional as F\n",
    "import torch.optim as optim\n",
    "from torch.nn.utils.rnn import pad_sequence, pack_padded_sequence\n",
    "\n",
    "from tqdm import tqdm"
   ]
  },
  {
   "cell_type": "code",
   "execution_count": 3,
   "metadata": {},
   "outputs": [
    {
     "name": "stdout",
     "output_type": "stream",
     "text": [
      "Number of people=108\n",
      "train: 35113 35113\n",
      "test: 8837 8837\n"
     ]
    }
   ],
   "source": [
    "NUM_PEOPLE = 0\n",
    "\n",
    "np.random.seed(7)\n",
    "\n",
    "train_wav_paths = []\n",
    "train_classes = []\n",
    "test_wav_paths = []\n",
    "test_classes = []\n",
    "wav_dir = os.path.join('VCTK-Corpus', 'wav48')\n",
    "for num, person in enumerate(os.listdir(wav_dir)):\n",
    "    NUM_PEOPLE += 1\n",
    "    person_dir = os.path.join(wav_dir, person)\n",
    "    wav_names = list(map(lambda wav_name: os.path.join(person_dir, wav_name), os.listdir(person_dir)))\n",
    "    train_person_speech, test_person_speech = train_test_split(wav_names, test_size=0.2)\n",
    "    train_wav_paths.extend(train_person_speech)\n",
    "    train_classes.extend([num] * len(train_person_speech))\n",
    "    test_wav_paths.extend(test_person_speech)\n",
    "    test_classes.extend([num] * len(test_person_speech))\n",
    "print('Number of people={}'.format(NUM_PEOPLE))\n",
    "print('train:', len(train_wav_paths), len(train_classes))\n",
    "print('test:', len(test_wav_paths), len(test_classes))"
   ]
  },
  {
   "cell_type": "code",
   "execution_count": 4,
   "metadata": {},
   "outputs": [],
   "source": [
    "def write_descriptor(wav_paths, desc_path):\n",
    "    with open(desc_path, 'w') as output:\n",
    "        for wav_path in wav_paths:\n",
    "            output.write('{} {}\\n'.format(wav_path, wav_path))\n",
    "            \n",
    "train_desc_path = 'train_desc.scp'\n",
    "test_desc_path = 'test_desc.scp'\n",
    "write_descriptor(train_wav_paths, train_desc_path)\n",
    "write_descriptor(test_wav_paths, test_desc_path)"
   ]
  },
  {
   "cell_type": "code",
   "execution_count": 5,
   "metadata": {},
   "outputs": [
    {
     "name": "stdout",
     "output_type": "stream",
     "text": [
      "Started processing train_desc.scp\n",
      "Success! Result is written to train_kaldi.ark\n",
      "Started processing test_desc.scp\n",
      "Success! Result is written to test_kaldi.ark\n"
     ]
    }
   ],
   "source": [
    "def compute_kaldi_features(desc_path, output_path, samp_freq=8000):\n",
    "    print('Started processing', desc_path)\n",
    "    rspec, wspec = 'scp:{}'.format(desc_path), 'ark:{}'.format(output_path)\n",
    "    \n",
    "    mfcc_opts = MfccOptions()\n",
    "    mfcc_opts.frame_opts.samp_freq = samp_freq\n",
    "\n",
    "    mfcc = Mfcc(mfcc_opts)\n",
    "    sf = mfcc_opts.frame_opts.samp_freq\n",
    "    \n",
    "    with SequentialWaveReader(rspec) as reader, MatrixWriter(wspec) as writer:      \n",
    "        for key, wav in reader:\n",
    "            assert(wav.samp_freq >= sf)\n",
    "            assert(wav.samp_freq % sf == 0)\n",
    "\n",
    "            s = wav.data()\n",
    "            s = s[:,::int(wav.samp_freq / sf)]\n",
    "            m = SubVector(mean(s, axis=0))\n",
    "\n",
    "            f = mfcc.compute_features(m, sf, 1.0)\n",
    "            f = SubMatrix(scale(f))\n",
    "            writer[key] = f\n",
    "    print('Success! Result is written to', output_path)\n",
    "            \n",
    "train_kaldi_path = 'train_kaldi.ark'\n",
    "test_kaldi_path = 'test_kaldi.ark'\n",
    "compute_kaldi_features(train_desc_path, train_kaldi_path)\n",
    "compute_kaldi_features(test_desc_path, test_kaldi_path)"
   ]
  },
  {
   "cell_type": "code",
   "execution_count": 6,
   "metadata": {},
   "outputs": [],
   "source": [
    "def read_features(kaldi_path):\n",
    "    features = []\n",
    "    rspec = 'ark:{}'.format(kaldi_path)\n",
    "    with SequentialMatrixReader(rspec) as reader:\n",
    "        for key, mat in reader:\n",
    "            features.append(torch.tensor(mat, dtype=torch.float))\n",
    "    return features\n",
    "\n",
    "train_features = read_features(train_kaldi_path)\n",
    "test_features = read_features(test_kaldi_path)"
   ]
  },
  {
   "cell_type": "code",
   "execution_count": 7,
   "metadata": {},
   "outputs": [
    {
     "name": "stdout",
     "output_type": "stream",
     "text": [
      "Train: 35113 35113\n",
      "Test: 8837 8837\n"
     ]
    }
   ],
   "source": [
    "print('Train:', len(train_features), len(train_classes))\n",
    "print('Test:', len(test_features), len(test_classes))"
   ]
  },
  {
   "cell_type": "code",
   "execution_count": 8,
   "metadata": {},
   "outputs": [],
   "source": [
    "class SpeakerIdentityLSTM(nn.Module):\n",
    "    \n",
    "    def __init__(self, feature_dim, hidden_dim, num_classes):\n",
    "        super(SpeakerIdentityLSTM, self).__init__()\n",
    "        self.hidden_dim = hidden_dim\n",
    "\n",
    "        self.lstm = nn.LSTM(feature_dim, hidden_dim, num_layers=1)\n",
    "        \n",
    "        self.hidden2class = nn.Linear(hidden_dim, num_classes)\n",
    "        self.hidden = None\n",
    "        self.softmax = nn.LogSoftmax(dim=1)\n",
    "        \n",
    "    def __init_hidden(self, batch_size):\n",
    "        # The axes semantics are (num_layers, batch_size, hidden_dim)\n",
    "        return (torch.zeros(1, batch_size, self.hidden_dim).cuda(),\n",
    "                torch.zeros(1, batch_size, self.hidden_dim).cuda())\n",
    "    \n",
    "    def __get_class_scores(self, batch, lengths):\n",
    "        self.hidden = self.__init_hidden(batch.size(0))\n",
    "        packed_input = pack_padded_sequence(batch, lengths, batch_first=True)\n",
    "        outputs, (ht, ct) = self.lstm(packed_input, self.hidden)\n",
    "        class_scores = self.hidden2class(ht[-1])\n",
    "        \n",
    "        return class_scores\n",
    "    \n",
    "    def forward(self, batch, lengths):\n",
    "        class_scores = self.__get_class_scores(batch, lengths)\n",
    "        output = self.softmax(class_scores)\n",
    "        \n",
    "        return output\n",
    "    \n",
    "    def predict_classes(self, batch, lengths):\n",
    "        class_scores = self.__get_class_scores(batch, lengths)\n",
    "        classes = class_scores.argmax(dim=1)\n",
    "        \n",
    "        return classes"
   ]
  },
  {
   "cell_type": "code",
   "execution_count": 11,
   "metadata": {},
   "outputs": [
    {
     "name": "stdout",
     "output_type": "stream",
     "text": [
      "GeForce GTX 1080 Ti\n"
     ]
    }
   ],
   "source": [
    "if torch.cuda.is_available():\n",
    "    current_device = torch.cuda.current_device()\n",
    "    print(torch.cuda.get_device_name(current_device))"
   ]
  },
  {
   "cell_type": "code",
   "execution_count": 12,
   "metadata": {},
   "outputs": [
    {
     "name": "stderr",
     "output_type": "stream",
     "text": [
      "100%|██████████| 5000/5000 [3:38:49<00:00,  2.66s/it]  \n"
     ]
    }
   ],
   "source": [
    "def pack_feature_class_lists(features, classes, ids):\n",
    "    ids = sorted(ids, key=lambda ind: features[ind].size(0), reverse=True)\n",
    "    lengths = list(map(lambda ind: features[ind].size(0), ids))\n",
    "    seq = list(map(lambda ind: features[ind], ids))\n",
    "    inputs = pad_sequence(seq, batch_first=True).cuda()\n",
    "    targets = torch.tensor(list(map(lambda ind: classes[ind], ids)), dtype=torch.long)\n",
    "    return inputs, lengths, targets\n",
    "\n",
    "EPOCHS = 5000\n",
    "BATCH_SIZE = 1024\n",
    "HIDDEN_DIM = 64\n",
    "\n",
    "torch.manual_seed(7)\n",
    "np.random.seed(7)\n",
    "\n",
    "model = SpeakerIdentityLSTM(train_features[0].shape[1], HIDDEN_DIM, NUM_PEOPLE).cuda()\n",
    "criterion = nn.NLLLoss()\n",
    "optimizer = optim.SGD(model.parameters(), lr=1e-2)\n",
    "\n",
    "N_train = len(train_features)\n",
    "N_test = len(test_features)\n",
    "train_ids = list(range(N_train))\n",
    "test_ids = list(range(N_test))\n",
    "\n",
    "train_losses = []\n",
    "test_accuracies = []\n",
    "\n",
    "for epoch in tqdm(range(EPOCHS)):\n",
    "    np.random.shuffle(train_ids)\n",
    "    \n",
    "    model.train()\n",
    "    train_loss = 0\n",
    "    for i in range(0, N_train, BATCH_SIZE):\n",
    "        model.zero_grad()\n",
    "        train_inputs, train_lens, train_targets = pack_feature_class_lists(\n",
    "            train_features, train_classes, train_ids[i:i+BATCH_SIZE])\n",
    "        class_log_probs = model(train_inputs, train_lens).cpu()\n",
    "        loss = criterion(class_log_probs, train_targets)\n",
    "        loss.backward()\n",
    "        optimizer.step()\n",
    "        train_loss += loss.item()\n",
    "    train_losses.append(train_loss)\n",
    "\n",
    "    model.eval()\n",
    "    correct = 0\n",
    "    for i in range(0, N_test, BATCH_SIZE):\n",
    "        test_inputs, test_lens, test_targets = pack_feature_class_lists(\n",
    "            test_features, test_classes,test_ids[i:i+BATCH_SIZE])\n",
    "        test_predictions = model.predict_classes(test_inputs, test_lens).cpu()\n",
    "        correct += (test_predictions == test_targets).sum().item()\n",
    "    accuracy = 100 * correct / N_test\n",
    "    test_accuracies.append(accuracy)"
   ]
  },
  {
   "cell_type": "code",
   "execution_count": 13,
   "metadata": {},
   "outputs": [
    {
     "data": {
      "image/png": "[encoded data removed]",
      "text/plain": [
       "<Figure size 432x288 with 1 Axes>"
      ]
     },
     "metadata": {
      "needs_background": "light"
     },
     "output_type": "display_data"
    }
   ],
   "source": [
    "plt.plot(range(len(train_losses)), train_losses)\n",
    "plt.legend(['Train loss'])\n",
    "plt.show()"
   ]
  },
  {
   "cell_type": "code",
   "execution_count": 14,
   "metadata": {},
   "outputs": [
    {
     "data": {
      "image/png": "[encoded data removed]",
      "text/plain": [
       "<Figure size 432x288 with 1 Axes>"
      ]
     },
     "metadata": {
      "needs_background": "light"
     },
     "output_type": "display_data"
    }
   ],
   "source": [
    "plt.plot(range(len(test_accuracies)), test_accuracies)\n",
    "plt.legend(['Test accuracy'])\n",
    "plt.show()"
   ]
  },
  {
   "cell_type": "code",
   "execution_count": null,
   "metadata": {},
   "outputs": [],
   "source": []
  }
 ],
 "metadata": {
  "kernelspec": {
   "display_name": "Python (sound)",
   "language": "python",
   "name": "sound"
  },
  "language_info": {
   "codemirror_mode": {
    "name": "ipython",
    "version": 3
   },
   "file_extension": ".py",
   "mimetype": "text/x-python",
   "name": "python",
   "nbconvert_exporter": "python",
   "pygments_lexer": "ipython3",
   "version": "3.6.8"
  }
 },
 "nbformat": 4,
 "nbformat_minor": 2
}
